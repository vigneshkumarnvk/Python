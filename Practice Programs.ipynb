{
 "cells": [
  {
   "cell_type": "markdown",
   "metadata": {},
   "source": [
    "# Exercises"
   ]
  },
  {
   "cell_type": "code",
   "execution_count": 1,
   "metadata": {},
   "outputs": [
    {
     "name": "stdout",
     "output_type": "stream",
     "text": [
      "Enter Number 1 : 16\n",
      "Enter Number 2 : 100\n",
      "Product is greater than 1000.So their sum is 116\n"
     ]
    }
   ],
   "source": [
    "# Given two integer numbers return their product, if the product is greater than 1000, return their sum.\n",
    "\n",
    "num1 = int(input(\"Enter Number 1 : \"))\n",
    "num2 = int(input(\"Enter Number 2 : \"))\n",
    "\n",
    "product = num1*num2\n",
    "add = num1+num2\n",
    "\n",
    "print(\"Product is greater than 1000.So their sum is {}\".format(add)) if product>1000 else print(\"Product is less than 1000.so their product is {}\".format(product))"
   ]
  },
  {
   "cell_type": "code",
   "execution_count": 2,
   "metadata": {},
   "outputs": [
    {
     "name": "stdout",
     "output_type": "stream",
     "text": [
      "Enter no.of.values : 6\n",
      "Enter 1 value : 12\n",
      "Enter 2 value : 88\n",
      "Enter 3 value : 45\n",
      "Enter 4 value : 23\n",
      "Enter 5 value : 9\n",
      "Enter 6 value : 2\n",
      "[12, 88, 45, 23, 9, 2]\n",
      "False\n"
     ]
    }
   ],
   "source": [
    "#Given a list of numbers, return True if first and last number of a list is same.\n",
    "\n",
    "lis = []\n",
    "n = int(input(\"Enter no.of.values : \"))\n",
    "for i in range(0,n):\n",
    "    val = int(input(\"Enter {} value : \".format(i+1)))\n",
    "    lis.append(val)\n",
    "print(lis)\n",
    "print('True') if lis[0]==lis[-1] else print('False')"
   ]
  },
  {
   "cell_type": "code",
   "execution_count": 3,
   "metadata": {},
   "outputs": [
    {
     "name": "stdout",
     "output_type": "stream",
     "text": [
      "Enter no.of.values : 5\n",
      "Enter 1 value : 5\n",
      "Enter 2 value : 12\n",
      "Enter 3 value : 87\n",
      "Enter 4 value : 125\n",
      "Enter 5 value : 44\n",
      "[5, 12, 87, 125, 44]\n",
      "Numbers divisible by 5 are : [5, 125]\n"
     ]
    }
   ],
   "source": [
    "#Given a list of numbers, iterate it and print only those numbers which are divisible by 5.\n",
    "lis = []\n",
    "num = []\n",
    "n = int(input(\"Enter no.of.values : \"))\n",
    "for i in range(0,n):\n",
    "    val = int(input(\"Enter {} value : \".format(i+1)))\n",
    "    lis.append(val)\n",
    "print(lis)\n",
    "for i in lis:\n",
    "    if i%5==0:\n",
    "        num.append(i)\n",
    "print(\"Numbers divisible by 5 are : {}\".format(num))      "
   ]
  },
  {
   "cell_type": "code",
   "execution_count": 4,
   "metadata": {},
   "outputs": [
    {
     "name": "stdout",
     "output_type": "stream",
     "text": [
      "Enter text : Hi How are you\n",
      "2\n"
     ]
    }
   ],
   "source": [
    "# Counting string in the words.\n",
    "text = str(input(\"Enter text : \"))\n",
    "count = text.count(\"o\")\n",
    "print(count)"
   ]
  },
  {
   "cell_type": "code",
   "execution_count": 5,
   "metadata": {},
   "outputs": [
    {
     "name": "stdout",
     "output_type": "stream",
     "text": [
      "Enter no.of.values : 4\n",
      "Enter 1 value : 43\n",
      "Enter 2 value : 52\n",
      "Enter 3 value : 11\n",
      "Enter 4 value : 23\n",
      "Original list :  [43, 52, 11, 23]\n",
      "Reversed list :  [23, 11, 52, 43]\n"
     ]
    }
   ],
   "source": [
    "# Reversing a list\n",
    "lis = []\n",
    "n = int(input(\"Enter no.of.values : \"))\n",
    "for i in range(0,n):\n",
    "    val = int(input(\"Enter {} value : \".format(i+1)))\n",
    "    lis.append(val)\n",
    "print(\"Original list : \", (lis))\n",
    "#lis.reverse()\n",
    "rev = lis[::-1]\n",
    "print(\"Reversed list : \", (rev))"
   ]
  },
  {
   "cell_type": "code",
   "execution_count": 6,
   "metadata": {},
   "outputs": [
    {
     "name": "stdout",
     "output_type": "stream",
     "text": [
      "Numbers which are divisible by 7 but not multiple of 5 are : \n",
      "2002\n",
      "2009\n",
      "2016\n",
      "2023\n",
      "2037\n",
      "2044\n",
      "2051\n",
      "2058\n",
      "2072\n",
      "2079\n",
      "2086\n",
      "2093\n",
      "2107\n",
      "2114\n",
      "2121\n",
      "2128\n",
      "2142\n",
      "2149\n",
      "2156\n",
      "2163\n",
      "2177\n",
      "2184\n",
      "2191\n",
      "2198\n",
      "2212\n",
      "2219\n",
      "2226\n",
      "2233\n",
      "2247\n",
      "2254\n",
      "2261\n",
      "2268\n",
      "2282\n",
      "2289\n",
      "2296\n",
      "2303\n",
      "2317\n",
      "2324\n",
      "2331\n",
      "2338\n",
      "2352\n",
      "2359\n",
      "2366\n",
      "2373\n",
      "2387\n",
      "2394\n",
      "2401\n",
      "2408\n",
      "2422\n",
      "2429\n",
      "2436\n",
      "2443\n",
      "2457\n",
      "2464\n",
      "2471\n",
      "2478\n",
      "2492\n",
      "2499\n",
      "2506\n",
      "2513\n",
      "2527\n",
      "2534\n",
      "2541\n",
      "2548\n",
      "2562\n",
      "2569\n",
      "2576\n",
      "2583\n",
      "2597\n",
      "2604\n",
      "2611\n",
      "2618\n",
      "2632\n",
      "2639\n",
      "2646\n",
      "2653\n",
      "2667\n",
      "2674\n",
      "2681\n",
      "2688\n",
      "2702\n",
      "2709\n",
      "2716\n",
      "2723\n",
      "2737\n",
      "2744\n",
      "2751\n",
      "2758\n",
      "2772\n",
      "2779\n",
      "2786\n",
      "2793\n",
      "2807\n",
      "2814\n",
      "2821\n",
      "2828\n",
      "2842\n",
      "2849\n",
      "2856\n",
      "2863\n",
      "2877\n",
      "2884\n",
      "2891\n",
      "2898\n",
      "2912\n",
      "2919\n",
      "2926\n",
      "2933\n",
      "2947\n",
      "2954\n",
      "2961\n",
      "2968\n",
      "2982\n",
      "2989\n",
      "2996\n",
      "3003\n",
      "3017\n",
      "3024\n",
      "3031\n",
      "3038\n",
      "3052\n",
      "3059\n",
      "3066\n",
      "3073\n",
      "3087\n",
      "3094\n",
      "3101\n",
      "3108\n",
      "3122\n",
      "3129\n",
      "3136\n",
      "3143\n",
      "3157\n",
      "3164\n",
      "3171\n",
      "3178\n",
      "3192\n",
      "3199\n"
     ]
    }
   ],
   "source": [
    "# Write a program which will find all such number which are divisible by 7 but are not multiple \n",
    "# of 5 between 2000 and 3200(include both). \n",
    "\n",
    "print(\"Numbers which are divisible by 7 but not multiple of 5 are : \")\n",
    "for i in range(2000, 3200+1):\n",
    "    if i%7==0:\n",
    "        if (i%5)!=0:\n",
    "            print(i)"
   ]
  },
  {
   "cell_type": "code",
   "execution_count": 7,
   "metadata": {},
   "outputs": [
    {
     "name": "stdout",
     "output_type": "stream",
     "text": [
      "Enter a Number : 7\n",
      "Factorial of 7 is : 5040\n"
     ]
    }
   ],
   "source": [
    "# Finding factorial for a give number\n",
    "\n",
    "num = int(input(\"Enter a Number : \"))\n",
    "fact = 1\n",
    "for i in range(num,0,-1):\n",
    "    fact = fact*i\n",
    "print(\"Factorial of {} is : {}\".format(num,fact))"
   ]
  },
  {
   "cell_type": "code",
   "execution_count": 8,
   "metadata": {},
   "outputs": [
    {
     "name": "stdout",
     "output_type": "stream",
     "text": [
      "Enter no.of. rows : 5\n",
      "*  \n",
      "\n",
      "*  *  \n",
      "\n",
      "*  *  *  \n",
      "\n",
      "*  *  *  *  \n",
      "\n",
      "*  *  *  *  *  \n",
      "\n"
     ]
    }
   ],
   "source": [
    "# Print the following Pattern\n",
    "# *\n",
    "# * *\n",
    "# * * *\n",
    "# * * * *\n",
    "# * * * * *\n",
    "rows = int(input(\"Enter no.of. rows : \"))\n",
    "for i in range(0, rows):\n",
    "    for j in range(0, i+1):\n",
    "        print(\"* \", end=\" \")\n",
    "    print(\"\\n\")"
   ]
  },
  {
   "cell_type": "code",
   "execution_count": 9,
   "metadata": {},
   "outputs": [
    {
     "name": "stdout",
     "output_type": "stream",
     "text": [
      "Enter no.of. rows : 5\n",
      "            *  \n",
      "         *  *  \n",
      "      *  *  *  \n",
      "   *  *  *  *  \n",
      "*  *  *  *  *  \n"
     ]
    }
   ],
   "source": [
    "# Print the following Pattern\n",
    "#         *\n",
    "#       * *\n",
    "#     * * *\n",
    "#   * * * *\n",
    "# * * * * *\n",
    "\n",
    "rows = int(input(\"Enter no.of. rows : \"))\n",
    "for i in range(1, rows+1):\n",
    "    for j in range(1, rows+1):\n",
    "        if(j <= rows - i):\n",
    "            print(' ', end = '  ')\n",
    "        else:\n",
    "            print('*', end = '  ')\n",
    "    print()\n"
   ]
  },
  {
   "cell_type": "code",
   "execution_count": 10,
   "metadata": {},
   "outputs": [
    {
     "name": "stdout",
     "output_type": "stream",
     "text": [
      "Enter no.of. rows : 5\n",
      "1\n",
      "12\n",
      "123\n",
      "1234\n",
      "12345\n"
     ]
    }
   ],
   "source": [
    "# Print the following Pattern\n",
    "# 1\n",
    "# 12\n",
    "# 123\n",
    "# 1234\n",
    "# 12345\n",
    "\n",
    "rows = int(input(\"Enter no.of. rows : \"))\n",
    "for i in range(1, rows+1):\n",
    "    for j in range(1,i+1):\n",
    "        print(j, end=\"\")\n",
    "    print()"
   ]
  },
  {
   "cell_type": "code",
   "execution_count": 11,
   "metadata": {},
   "outputs": [
    {
     "name": "stdout",
     "output_type": "stream",
     "text": [
      "Enter lower range: 10\n",
      "Enter upper range: 25\n",
      "11\n",
      "13\n",
      "17\n",
      "19\n",
      "23\n"
     ]
    }
   ],
   "source": [
    "# Display all prime numbers within a range\n",
    "\n",
    "lower = int(input(\"Enter lower range: \"))  \n",
    "upper = int(input(\"Enter upper range: \"))  \n",
    "  \n",
    "for num in range(lower,upper + 1):\n",
    "    if num > 1:\n",
    "        for i in range(2,num):\n",
    "            if (num % i) == 0:\n",
    "                break\n",
    "        else:\n",
    "            print(num)  "
   ]
  },
  {
   "cell_type": "code",
   "execution_count": 13,
   "metadata": {},
   "outputs": [
    {
     "name": "stdout",
     "output_type": "stream",
     "text": [
      "Enter start number : 1\n",
      "start and end is number : 1 and 10\n",
      "current number is 1 and sum is 1 \n",
      "current number is 2 and sum is 3 \n",
      "current number is 3 and sum is 6 \n",
      "current number is 4 and sum is 10 \n",
      "current number is 5 and sum is 15 \n",
      "current number is 6 and sum is 21 \n",
      "current number is 7 and sum is 28 \n",
      "current number is 8 and sum is 36 \n",
      "current number is 9 and sum is 45 \n",
      "current number is 10 and sum is 55 \n"
     ]
    }
   ],
   "source": [
    "# Given a range of first 10 numbers, iterate from start number to end number and in each iteration print the sum of current\n",
    "# number with previous number\n",
    "\n",
    "start = int(input(\"Enter start number : \"))\n",
    "print(\"start and end is number : {} and {}\".format(start,start+9))\n",
    "\n",
    "num=0\n",
    "for i in range(start,start+10):\n",
    "    num = num+i\n",
    "    print(\"current number is {} and sum is {} \".format(i,num))"
   ]
  },
  {
   "cell_type": "code",
   "execution_count": 14,
   "metadata": {},
   "outputs": [
    {
     "name": "stdout",
     "output_type": "stream",
     "text": [
      "Enter an Integer : 5643\n",
      "Reversed Integer :  3465\n"
     ]
    }
   ],
   "source": [
    "# Write a code to reverse an Integer\n",
    "\n",
    "num = int(input(\"Enter an Integer : \"))\n",
    "str_num = str(num)\n",
    "rev_num = str_num[::-1]\n",
    "print(\"Reversed Integer : \",rev_num)"
   ]
  },
  {
   "cell_type": "code",
   "execution_count": 15,
   "metadata": {},
   "outputs": [
    {
     "name": "stdout",
     "output_type": "stream",
     "text": [
      "Enter no.of. values : 5\n",
      "Enter 1 value : 2\n",
      "Enter 2 value : 14\n",
      "Enter 3 value : 67\n",
      "Enter 4 value : 34\n",
      "Enter 5 value : 29\n",
      "[2, 14, 67, 34, 29]\n",
      "Largest number in the list :  67\n"
     ]
    }
   ],
   "source": [
    "# Return largest item in the list\n",
    "\n",
    "n = int(input(\"Enter no.of. values : \"))\n",
    "lst = []\n",
    "for i in range(1, n+1):\n",
    "    val = int(input(\"Enter {} value : \".format(i)))\n",
    "    lst.append(val)\n",
    "print(lst)\n",
    "# print(\"Largest number in the list : \",max(lst))\n",
    "high = 0\n",
    "for i in lst:\n",
    "    if high<i:\n",
    "        high = i\n",
    "print(\"Largest number in the list : \",high)"
   ]
  },
  {
   "cell_type": "code",
   "execution_count": 16,
   "metadata": {},
   "outputs": [
    {
     "name": "stdout",
     "output_type": "stream",
     "text": [
      "Enter Length of Triangle : 4\n",
      "Enter Breadth of Triangle : 6\n",
      "Area of Triangle is :  12.0\n"
     ]
    }
   ],
   "source": [
    "# Area of Triangle\n",
    "\n",
    "length = int(input(\"Enter Length of Triangle : \"))\n",
    "breadth = int(input(\"Enter Breadth of Triangle : \"))\n",
    "\n",
    "print(\"Area of Triangle is : \",((1/2)*length*breadth))\n"
   ]
  },
  {
   "cell_type": "code",
   "execution_count": 17,
   "metadata": {},
   "outputs": [
    {
     "name": "stdout",
     "output_type": "stream",
     "text": [
      "Enter variable 1 : 2\n",
      "Enter variable 2 : 8\n",
      "variables Before Swapping : 2 8 \n",
      "variables After Swapping : 8 2 \n"
     ]
    }
   ],
   "source": [
    "# swap two Variables\n",
    "\n",
    "var1 = int(input(\"Enter variable 1 : \"))\n",
    "var2 = int(input(\"Enter variable 2 : \"))\n",
    "\n",
    "temp = 0\n",
    "print(\"variables Before Swapping : {} {} \".format(var1,var2))\n",
    "temp = var1\n",
    "var1 = var2\n",
    "var2 = temp\n",
    "print(\"variables After Swapping : {} {} \".format(var1,var2))"
   ]
  },
  {
   "cell_type": "code",
   "execution_count": 18,
   "metadata": {},
   "outputs": [
    {
     "name": "stdout",
     "output_type": "stream",
     "text": [
      "Enter variable 1 : 4\n",
      "Enter variable 2 : 1\n",
      "variables Before Swapping : 4 1 \n",
      "variables After Swapping : 1 4 \n"
     ]
    }
   ],
   "source": [
    "# swap two Variables without temp\n",
    "\n",
    "var1 = int(input(\"Enter variable 1 : \"))\n",
    "var2 = int(input(\"Enter variable 2 : \"))\n",
    "\n",
    "print(\"variables Before Swapping : {} {} \".format(var1,var2))\n",
    "var1, var2 = var2, var1\n",
    "print(\"variables After Swapping : {} {} \".format(var1,var2))"
   ]
  },
  {
   "cell_type": "code",
   "execution_count": 19,
   "metadata": {},
   "outputs": [
    {
     "name": "stdout",
     "output_type": "stream",
     "text": [
      "Enter no.of. values : 5\n",
      "Enter 1 value : 2\n",
      "Enter 2 value : 10\n",
      "Enter 3 value : 23\n",
      "Enter 4 value : 44\n",
      "Enter 5 value : 32\n",
      "[2, 10, 23, 44, 32]\n",
      "Average of list is :  22.2\n"
     ]
    }
   ],
   "source": [
    "# Average of Integers in the list\n",
    "\n",
    "n = int(input(\"Enter no.of. values : \"))\n",
    "lst = []\n",
    "for i in range(1, n+1):\n",
    "    val = int(input(\"Enter {} value : \".format(i)))\n",
    "    lst.append(val)\n",
    "print(lst)\n",
    "avg = 0\n",
    "for i in lst:\n",
    "    avg = avg+i\n",
    "print(\"Average of list is : \", (avg/n))"
   ]
  },
  {
   "cell_type": "code",
   "execution_count": 20,
   "metadata": {},
   "outputs": [
    {
     "name": "stdout",
     "output_type": "stream",
     "text": [
      "Enter number : 13\n",
      "Enter upto value : 10\n",
      "Multiplication table of 10\n",
      "13*1=13\n",
      "13*2=26\n",
      "13*3=39\n",
      "13*4=52\n",
      "13*5=65\n",
      "13*6=78\n",
      "13*7=91\n",
      "13*8=104\n",
      "13*9=117\n",
      "13*10=130\n"
     ]
    }
   ],
   "source": [
    "# Multiplication Table\n",
    "\n",
    "n = int(input(\"Enter number : \"))\n",
    "upto = int(input(\"Enter upto value : \"))\n",
    "print(\"Multiplication table of \"+str(upto))\n",
    "for i in range(1, upto+1):\n",
    "    mul = i*n\n",
    "    print(str(n)+\"*\"+str(i)+\"=\"+str(mul))"
   ]
  },
  {
   "cell_type": "code",
   "execution_count": 21,
   "metadata": {},
   "outputs": [
    {
     "name": "stdout",
     "output_type": "stream",
     "text": [
      "Enter number : 341\n",
      "Number 341 is Odd\n"
     ]
    }
   ],
   "source": [
    "# odd or Even\n",
    "\n",
    "n = int(input(\"Enter number : \"))\n",
    "if n%2==0:\n",
    "    print(\"Number {} is Even\".format(n))\n",
    "else:\n",
    "    print(\"Number {} is Odd\".format(n))"
   ]
  },
  {
   "cell_type": "code",
   "execution_count": 22,
   "metadata": {},
   "outputs": [
    {
     "name": "stdout",
     "output_type": "stream",
     "text": [
      "Enter number 1 : 56\n",
      "Enter number 2 : 33\n",
      "Enter number 3 : 45\n",
      "Number 56  is Greatest\n"
     ]
    }
   ],
   "source": [
    "# Largest Among Three Numbers\n",
    "\n",
    "n1 = int(input(\"Enter number 1 : \"))\n",
    "n2 = int(input(\"Enter number 2 : \")) \n",
    "n3 = int(input(\"Enter number 3 : \"))\n",
    "\n",
    "if n1>n2:\n",
    "    print(\"Number {}  is Greatest\".format(n1))\n",
    "elif n2>n3:\n",
    "    print(\"Number {}  is Greatest\".format(n2))\n",
    "else:\n",
    "    print(\"Number {}  is Greatest\".format(n3))"
   ]
  },
  {
   "cell_type": "code",
   "execution_count": 23,
   "metadata": {},
   "outputs": [
    {
     "name": "stdout",
     "output_type": "stream",
     "text": [
      "Enter number : 45\n",
      "1.Binary\n",
      "2.Octal\n",
      "3.Hexadecimal\n",
      "Enter choice : 1\n",
      "Binary Number for given Decimal is 0b101101 \n"
     ]
    }
   ],
   "source": [
    "# Write a program to convert decimal into other system\n",
    "\n",
    "decimal = int(input(\"Enter number : \"))\n",
    "print(\"1.Binary\\n2.Octal\\n3.Hexadecimal\")\n",
    "choice = int(input(\"Enter choice : \"))\n",
    "if choice==1:\n",
    "    print(\"Binary Number for given Decimal is {} \".format(bin(decimal)))\n",
    "elif choice==2:\n",
    "    print(\"Octal Number for given Decimal is {} \".format(oct(decimal)))\n",
    "elif choice==3:\n",
    "    print(\"Hexa Number for given Decimal is {} \".format(hex(decimal)))\n",
    "else:\n",
    "    print(\"Enter correct choice\")\n"
   ]
  },
  {
   "cell_type": "code",
   "execution_count": 24,
   "metadata": {},
   "outputs": [
    {
     "name": "stdout",
     "output_type": "stream",
     "text": [
      "1.ASCII to Character\n",
      "2.Character to ASCII\n",
      "Enter choice : 1\n",
      "Enter ASCII Value : 77\n",
      "Character for given ASCII value is M \n"
     ]
    }
   ],
   "source": [
    "# Converting ASCII into characters and Vice versa\n",
    "\n",
    "print(\"1.ASCII to Character\\n2.Character to ASCII\")\n",
    "choice = int(input(\"Enter choice : \"))\n",
    "if choice==1:\n",
    "    asci = int(input(\"Enter ASCII Value : \"))\n",
    "    print(\"Character for given ASCII value is {} \".format(chr(asci)))\n",
    "elif choice==2:\n",
    "    ch = str(input(\"Enter Character : \"))\n",
    "    print(\"ASCII value for given character is {} \".format(ord(ch)))\n",
    "else:\n",
    "     print(\"Enter correct choice\")\n",
    "    "
   ]
  },
  {
   "cell_type": "code",
   "execution_count": 25,
   "metadata": {},
   "outputs": [
    {
     "name": "stdout",
     "output_type": "stream",
     "text": [
      "Enter number : 15\n",
      "Factors of 15 are : \n",
      "3\n",
      "5\n",
      "15\n"
     ]
    }
   ],
   "source": [
    "# Finding factor for a number\n",
    "\n",
    "n = int(input(\"Enter number : \"))\n",
    "print(\"Factors of {} are : \".format(n))\n",
    "if n>1:\n",
    "    for i in range(2,n+1):\n",
    "        if n%i==0:\n",
    "            print(i)\n",
    "else:\n",
    "    print(\"Enter number greater than 1\")"
   ]
  },
  {
   "cell_type": "code",
   "execution_count": 26,
   "metadata": {},
   "outputs": [
    {
     "name": "stdout",
     "output_type": "stream",
     "text": [
      "Enetr ur Input : MaM\n",
      "After Reversing MaM : \n",
      "Ur Input MaM is Palindrome\n"
     ]
    }
   ],
   "source": [
    "# Palindrome or not\n",
    "\n",
    "text = input(\"Enetr ur Input : \")\n",
    "rev = text[::-1]\n",
    "print(\"After Reversing {} : \".format(rev))\n",
    "if text==rev:\n",
    "    print(\"Ur Input {} is Palindrome\".format(text))\n",
    "else:\n",
    "    print(\"Ur Input {} is not Palindrome\".format(text))"
   ]
  },
  {
   "cell_type": "code",
   "execution_count": 27,
   "metadata": {},
   "outputs": [
    {
     "name": "stdout",
     "output_type": "stream",
     "text": [
      "1.Celcius to Fahrenheit\n",
      "2.Fahrenheit to Celcius\n",
      "Enter choice : 1\n",
      "Enter Celcius: 32\n",
      "32 Celcius is 89.6 Fahrenheit \n"
     ]
    }
   ],
   "source": [
    "#Celcius to Fahrenheit and Vice versa\n",
    "\n",
    "print(\"1.Celcius to Fahrenheit\\n2.Fahrenheit to Celcius\")\n",
    "choice = int(input(\"Enter choice : \"))\n",
    "if choice==1:\n",
    "    cel = int(input(\"Enter Celcius: \"))\n",
    "    fah = (cel*1.8)+32\n",
    "    print(\"{} Celcius is {} Fahrenheit \".format(cel, fah))\n",
    "elif choice==2:\n",
    "    fah = int(input(\"Enter Celcius: \"))\n",
    "    cel = (cel-32)/1.8\n",
    "    print(\"{} Fahrenheit is {} Celcius \".format(fah, cel))\n",
    "else:\n",
    "    print(\"Enter correct choice\")\n"
   ]
  },
  {
   "cell_type": "code",
   "execution_count": 28,
   "metadata": {},
   "outputs": [
    {
     "name": "stdout",
     "output_type": "stream",
     "text": [
      "Enter a Number : -5\n",
      "-5 is Negative\n"
     ]
    }
   ],
   "source": [
    "# Write a program to check number is positive or negative or Zero\n",
    "\n",
    "n = int(input(\"Enter a Number : \"))\n",
    "if n<0:\n",
    "    print(\"{} is Negative\".format(n))\n",
    "elif n==0: \n",
    "    print(\"{} is Zero\".format(n)) \n",
    "else:\n",
    "    print(\"{} is Positive\".format(n))"
   ]
  }
 ],
 "metadata": {
  "kernelspec": {
   "display_name": "Python 3",
   "language": "python",
   "name": "python3"
  },
  "language_info": {
   "codemirror_mode": {
    "name": "ipython",
    "version": 3
   },
   "file_extension": ".py",
   "mimetype": "text/x-python",
   "name": "python",
   "nbconvert_exporter": "python",
   "pygments_lexer": "ipython3",
   "version": "3.8.5"
  }
 },
 "nbformat": 4,
 "nbformat_minor": 4
}
